{
 "cells": [
  {
   "cell_type": "code",
   "execution_count": 610,
   "metadata": {},
   "outputs": [],
   "source": [
    "import tensorflow as tf\n",
    "import tensorflow.contrib.learn as learn\n",
    "import numpy as np\n",
    "import pandas as pd\n",
    "import xgboost as xgb\n",
    "import matplotlib.pyplot as plt\n",
    "from sklearn.metrics import mean_absolute_error,mean_squared_error\n",
    "from sklearn.preprocessing import StandardScaler\n",
    "from sklearn.model_selection import train_test_split\n",
    "import pickle"
   ]
  },
  {
   "cell_type": "code",
   "execution_count": 3,
   "metadata": {
    "collapsed": true
   },
   "outputs": [],
   "source": [
    "df = pd.read_csv('../data/train_clean.csv')"
   ]
  },
  {
   "cell_type": "code",
   "execution_count": 4,
   "metadata": {
    "collapsed": true
   },
   "outputs": [],
   "source": [
    "X=df[['bedrooms_total',\n",
    " 'baths_total',\n",
    " 'acres',\n",
    " 'sq_ft_tot_fn',\n",
    " 'tax_gross_amount',\n",
    " 'assessment_value_town',\n",
    " 'garage_capacity',\n",
    " 'year_built',\n",
    " 'total_stories',\n",
    " 'rooms_total',\n",
    " 'garage',\n",
    " 'flood_zone',\n",
    " 'basement',\n",
    " 'city__Pomfret',\n",
    " 'city__Woodstock',\n",
    " 'covenants__Unknown',\n",
    " 'covenants__Yes',\n",
    " 'garage_type',\n",
    " 'short_sale',\n",
    " 'basement_access_type',\n",
    " 'current_use']]\n",
    "y = df['price_closed']"
   ]
  },
  {
   "cell_type": "code",
   "execution_count": 5,
   "metadata": {
    "collapsed": true
   },
   "outputs": [],
   "source": [
    "test = pd.read_csv('../data/test_clean.csv')"
   ]
  },
  {
   "cell_type": "code",
   "execution_count": 7,
   "metadata": {
    "collapsed": true
   },
   "outputs": [],
   "source": [
    "X_Test = test[['bedrooms_total',\n",
    " 'baths_total',\n",
    " 'acres',\n",
    " 'sq_ft_tot_fn',\n",
    " 'tax_gross_amount',\n",
    " 'assessment_value_town',\n",
    " 'garage_capacity',\n",
    " 'year_built',\n",
    " 'total_stories',\n",
    " 'rooms_total',\n",
    " 'garage',\n",
    " 'flood_zone',\n",
    " 'basement',\n",
    " 'city__Pomfret',\n",
    " 'city__Woodstock',\n",
    " 'covenants__Unknown',\n",
    " 'covenants__Yes',\n",
    " 'garage_type',\n",
    " 'short_sale',\n",
    " 'basement_access_type',\n",
    " 'current_use']]"
   ]
  },
  {
   "cell_type": "code",
   "execution_count": 6,
   "metadata": {
    "collapsed": true
   },
   "outputs": [],
   "source": [
    "validate = pd.read_csv('../data/validate_clean.csv')['price_closed']"
   ]
  },
  {
   "cell_type": "markdown",
   "metadata": {},
   "source": [
    "# XGBoost"
   ]
  },
  {
   "cell_type": "code",
   "execution_count": 8,
   "metadata": {
    "collapsed": true
   },
   "outputs": [],
   "source": [
    "df_train_xgb = xgb.DMatrix(X, y)"
   ]
  },
  {
   "cell_type": "code",
   "execution_count": 160,
   "metadata": {},
   "outputs": [],
   "source": [
    "params = {\"objective\": \"reg:linear\", \"booster\":\"gblinear\", \"alpha\": 0.01, \"lambda\":0.0001, \"eval_metric\":\"rmse\"}\n",
    "gbm = xgb.train(dtrain=df_train_xgb,params=params)"
   ]
  },
  {
   "cell_type": "code",
   "execution_count": 162,
   "metadata": {},
   "outputs": [],
   "source": [
    "prediction = gbm.predict(xgb.DMatrix(X_Test))"
   ]
  },
  {
   "cell_type": "code",
   "execution_count": 163,
   "metadata": {},
   "outputs": [
    {
     "name": "stdout",
     "output_type": "stream",
     "text": [
      "Mean Absolute Error: 200872.48369565216\n",
      "Mean Squared Error: 131823481859.79988\n",
      "Root Mean Squared Error: 363075.0361286216\n"
     ]
    }
   ],
   "source": [
    "print('Mean Absolute Error: {}'.format(mean_absolute_error(validate, prediction)))\n",
    "print('Mean Squared Error: {}'.format(mean_squared_error(validate, prediction)))\n",
    "print('Root Mean Squared Error: {}'.format(np.sqrt(mean_squared_error(validate, prediction))))"
   ]
  },
  {
   "cell_type": "code",
   "execution_count": 165,
   "metadata": {},
   "outputs": [
    {
     "data": {
      "image/png": "[encoded data removed]",
      "text/plain": [
       "<matplotlib.figure.Figure at 0x122b2b080>"
      ]
     },
     "metadata": {},
     "output_type": "display_data"
    }
   ],
   "source": [
    "plt.plot(validate, color='red', label='Actual')\n",
    "plt.plot(prediction, color='blue', lw=2, label='Prediction')\n",
    "plt.xlabel('data')\n",
    "plt.ylabel('target')\n",
    "plt.title('XGBoost Accuracy')\n",
    "plt.legend()\n",
    "plt.show()"
   ]
  },
  {
   "cell_type": "code",
   "execution_count": 167,
   "metadata": {},
   "outputs": [
    {
     "data": {
      "text/plain": [
       "XGBRegressor(base_score=0.5, colsample_bylevel=1, colsample_bytree=1, gamma=0,\n",
       "       learning_rate=0.08, max_delta_step=0, max_depth=7,\n",
       "       min_child_weight=1, missing=None, n_estimators=100, nthread=-1,\n",
       "       objective='reg:linear', reg_alpha=0, reg_lambda=1,\n",
       "       scale_pos_weight=1, seed=0, silent=True, subsample=0.75)"
      ]
     },
     "execution_count": 167,
     "metadata": {},
     "output_type": "execute_result"
    }
   ],
   "source": [
    "xgbg = xgb.XGBRegressor(n_estimators=100, learning_rate=0.08, gamma=0, subsample=0.75,\n",
    "                           colsample_bytree=1, max_depth=7)\n",
    "xgbg.fit(X,y)"
   ]
  },
  {
   "cell_type": "code",
   "execution_count": 170,
   "metadata": {},
   "outputs": [],
   "source": [
    "prediction = xgbg.predict(X_Test)"
   ]
  },
  {
   "cell_type": "code",
   "execution_count": 171,
   "metadata": {},
   "outputs": [
    {
     "name": "stdout",
     "output_type": "stream",
     "text": [
      "Mean Absolute Error: 191089.45788043478\n",
      "Mean Squared Error: 157445322695.69095\n",
      "Root Mean Squared Error: 396793.8037516349\n"
     ]
    }
   ],
   "source": [
    "print('Mean Absolute Error: {}'.format(mean_absolute_error(validate, prediction)))\n",
    "print('Mean Squared Error: {}'.format(mean_squared_error(validate, prediction)))\n",
    "print('Root Mean Squared Error: {}'.format(np.sqrt(mean_squared_error(validate, prediction))))"
   ]
  },
  {
   "cell_type": "code",
   "execution_count": 172,
   "metadata": {},
   "outputs": [
    {
     "data": {
      "image/png": "[encoded data removed]",
      "text/plain": [
       "<matplotlib.figure.Figure at 0x122a8dc88>"
      ]
     },
     "metadata": {},
     "output_type": "display_data"
    }
   ],
   "source": [
    "plt.plot(validate, color='red', label='Actual')\n",
    "plt.plot(prediction, color='blue', lw=2, label='Prediction')\n",
    "plt.xlabel('data')\n",
    "plt.ylabel('target')\n",
    "plt.title('XGB Regressor Accuracy')\n",
    "plt.legend()\n",
    "plt.show()"
   ]
  },
  {
   "cell_type": "markdown",
   "metadata": {},
   "source": [
    "So XGBoost did better on extreme ranges while XGB Regressor did better on mid-range"
   ]
  },
  {
   "cell_type": "code",
   "execution_count": 612,
   "metadata": {},
   "outputs": [],
   "source": [
    "filename = 'gbm_model.sav'\n",
    "pickle.dump(gbm, open(filename, 'wb'))"
   ]
  },
  {
   "cell_type": "markdown",
   "metadata": {},
   "source": [
    "# Tensor Flow"
   ]
  },
  {
   "cell_type": "code",
   "execution_count": 333,
   "metadata": {},
   "outputs": [],
   "source": [
    "X_orig=df[['bedrooms_total',\n",
    " 'baths_total',\n",
    " 'acres',\n",
    " 'sq_ft_tot_fn',\n",
    " 'tax_gross_amount',\n",
    " 'assessment_value_town',\n",
    " 'garage_capacity',\n",
    " 'year_built',\n",
    " 'total_stories',\n",
    " 'rooms_total',\n",
    " 'garage',\n",
    " 'flood_zone',\n",
    " 'basement',\n",
    " 'city__Pomfret',\n",
    " 'city__Woodstock',\n",
    " 'covenants__Unknown',\n",
    " 'covenants__Yes',\n",
    " 'garage_type',\n",
    " 'short_sale',\n",
    " 'basement_access_type',\n",
    " 'current_use']]\n",
    "train_y = df['price_closed'].values.astype('float32').reshape(137,1)"
   ]
  },
  {
   "cell_type": "code",
   "execution_count": 321,
   "metadata": {},
   "outputs": [],
   "source": [
    "scaler= StandardScaler()\n",
    "scaled_X = scaler.fit_transform(X_orig).astype('float32')"
   ]
  },
  {
   "cell_type": "code",
   "execution_count": 465,
   "metadata": {
    "collapsed": true
   },
   "outputs": [],
   "source": [
    "# Parameters\n",
    "learning_rate = 0.001\n",
    "training_epochs = 1000\n",
    "display_step = 50"
   ]
  },
  {
   "cell_type": "code",
   "execution_count": 466,
   "metadata": {},
   "outputs": [],
   "source": [
    "# tf Graph Input\n",
    "X = tf.placeholder(\"float\")\n",
    "Y = tf.placeholder(\"float\")\n",
    "\n",
    "# Set model weights\n",
    "W = tf.Variable(float(1), name=\"weight\")\n",
    "b = tf.Variable(np.random.randn(), name=\"bias\")"
   ]
  },
  {
   "cell_type": "code",
   "execution_count": 467,
   "metadata": {},
   "outputs": [],
   "source": [
    "# Construct a linear model\n",
    "pred = tf.add(tf.multiply(X, W), b)"
   ]
  },
  {
   "cell_type": "code",
   "execution_count": 486,
   "metadata": {
    "collapsed": true
   },
   "outputs": [],
   "source": [
    "# Mean squared error\n",
    "cost = tf.reduce_sum(tf.pow(pred-Y, 2))/(2*len(scaled_X))\n",
    "# Gradient descent\n",
    "optimizer = tf.train.GradientDescentOptimizer(learning_rate).minimize(cost)"
   ]
  },
  {
   "cell_type": "code",
   "execution_count": 487,
   "metadata": {
    "collapsed": true
   },
   "outputs": [],
   "source": [
    "# Initialize the variables (i.e. assign their default value)\n",
    "init = tf.global_variables_initializer()"
   ]
  },
  {
   "cell_type": "code",
   "execution_count": 488,
   "metadata": {
    "collapsed": true
   },
   "outputs": [],
   "source": [
    "cost_history = []"
   ]
  },
  {
   "cell_type": "code",
   "execution_count": 491,
   "metadata": {},
   "outputs": [
    {
     "name": "stdout",
     "output_type": "stream",
     "text": [
      "Epoch: 0050 cost= 5080815763456.0 W= 107630.0 b= 478812.0\n",
      "Epoch: 0100 cost= 4439255023616.0 W= 145285.0 b= 646350.0\n",
      "Epoch: 0150 cost= 4361008709632.0 W= 158458.0 b= 704972.0\n",
      "Epoch: 0200 cost= 4351537184768.0 W= 163066.0 b= 725483.0\n",
      "Epoch: 0250 cost= 4350415470592.0 W= 164679.0 b= 732662.0\n",
      "Epoch: 0300 cost= 4350289903616.0 W= 165243.0 b= 735174.0\n",
      "Epoch: 0350 cost= 4350280204288.0 W= 165440.0 b= 736053.0\n",
      "Epoch: 0400 cost= 4350279680000.0 W= 165508.0 b= 736355.0\n",
      "Epoch: 0450 cost= 4350279680000.0 W= 165533.0 b= 736477.0\n",
      "Epoch: 0500 cost= 4350279680000.0 W= 165543.0 b= 736520.0\n",
      "Epoch: 0550 cost= 4350281777152.0 W= 165546.0 b= 736527.0\n",
      "Epoch: 0600 cost= 4350282039296.0 W= 165547.0 b= 736527.0\n",
      "Epoch: 0650 cost= 4350282039296.0 W= 165547.0 b= 736527.0\n",
      "Epoch: 0700 cost= 4350282039296.0 W= 165547.0 b= 736527.0\n",
      "Epoch: 0750 cost= 4350282039296.0 W= 165547.0 b= 736527.0\n",
      "Epoch: 0800 cost= 4350282039296.0 W= 165547.0 b= 736527.0\n",
      "Epoch: 0850 cost= 4350282039296.0 W= 165547.0 b= 736527.0\n",
      "Epoch: 0900 cost= 4350282039296.0 W= 165547.0 b= 736527.0\n",
      "Epoch: 0950 cost= 4350282039296.0 W= 165547.0 b= 736527.0\n",
      "Epoch: 1000 cost= 4350282039296.0 W= 165547.0 b= 736527.0\n",
      "Optimization Finished!\n",
      "Training cost= 4.35028e+12 W= 165547.0 b= 736527.0 \n",
      "\n",
      "RMSE: 643671.1875\n"
     ]
    }
   ],
   "source": [
    "with tf.Session() as sess:\n",
    "    sess.run(init)\n",
    "\n",
    "    # Fit all training data\n",
    "    for epoch in range(training_epochs):\n",
    "\n",
    "        for (x, y) in zip(scaled_X, train_y):\n",
    "            sess.run(optimizer, feed_dict={X: x, Y: y})\n",
    "\n",
    "        #Display logs per epoch step\n",
    "        if (epoch+1) % display_step == 0:\n",
    "            c = sess.run(cost, feed_dict={X: scaled_X, Y:train_y})\n",
    "            cost_history.append(c)\n",
    "            print (\"Epoch:\", '%04d' % (epoch+1), \"cost=\", \"{:.1f}\".format(c), \\\n",
    "                \"W=\", sess.run(W), \"b=\", sess.run(b))\n",
    "\n",
    "    print (\"Optimization Finished!\")\n",
    "    training_cost = sess.run(cost, feed_dict={X: scaled_X, Y: train_y})\n",
    "    print (\"Training cost=\", training_cost, \"W=\", sess.run(W), \"b=\", sess.run(b), '\\n')\n",
    "    pred_y = sess.run(pred,feed_dict={X: scaled_X})\n",
    "    mse = tf.reduce_mean(tf.square(pred_y - train_y))\n",
    "    print(\"RMSE: %.4f\" % np.sqrt(sess.run(mse)))"
   ]
  },
  {
   "cell_type": "code",
   "execution_count": 492,
   "metadata": {},
   "outputs": [
    {
     "data": {
      "image/png": "[encoded data removed]",
      "text/plain": [
       "<matplotlib.figure.Figure at 0x127374fd0>"
      ]
     },
     "metadata": {},
     "output_type": "display_data"
    }
   ],
   "source": [
    "plt.plot(np.sqrt(cost_history))\n",
    "plt.show()"
   ]
  },
  {
   "cell_type": "markdown",
   "metadata": {},
   "source": [
    "## Contrib Learn"
   ]
  },
  {
   "cell_type": "code",
   "execution_count": 498,
   "metadata": {
    "collapsed": true
   },
   "outputs": [],
   "source": [
    "X=df[['bedrooms_total',\n",
    " 'baths_total',\n",
    " 'acres',\n",
    " 'sq_ft_tot_fn',\n",
    " 'tax_gross_amount',\n",
    " 'assessment_value_town',\n",
    " 'garage_capacity',\n",
    " 'year_built',\n",
    " 'total_stories',\n",
    " 'rooms_total',\n",
    " 'garage',\n",
    " 'flood_zone',\n",
    " 'basement',\n",
    " 'city__Pomfret',\n",
    " 'city__Woodstock',\n",
    " 'covenants__Unknown',\n",
    " 'covenants__Yes',\n",
    " 'garage_type',\n",
    " 'short_sale',\n",
    " 'basement_access_type',\n",
    " 'current_use']]\n",
    "y = df['price_closed']\n",
    "scaler= StandardScaler()\n",
    "scaled_X = scaler.fit_transform(X)"
   ]
  },
  {
   "cell_type": "code",
   "execution_count": 501,
   "metadata": {},
   "outputs": [],
   "source": [
    "X = scaled_X.astype(np.float32)\n",
    "y = y.astype(np.float32)"
   ]
  },
  {
   "cell_type": "code",
   "execution_count": 575,
   "metadata": {
    "collapsed": true
   },
   "outputs": [],
   "source": [
    "X_train, X_test, y_train, y_test = train_test_split(X, y, test_size=0.33, random_state=101)"
   ]
  },
  {
   "cell_type": "code",
   "execution_count": 576,
   "metadata": {
    "collapsed": true
   },
   "outputs": [],
   "source": [
    "feature_columns = tf.contrib.learn.infer_real_valued_columns_from_input(X_train)"
   ]
  },
  {
   "cell_type": "code",
   "execution_count": 606,
   "metadata": {},
   "outputs": [
    {
     "name": "stdout",
     "output_type": "stream",
     "text": [
      "INFO:tensorflow:Using default config.\n",
      "INFO:tensorflow:Using config: {'_task_type': None, '_task_id': 0, '_cluster_spec': <tensorflow.python.training.server_lib.ClusterSpec object at 0x12d7fa240>, '_master': '', '_num_ps_replicas': 0, '_num_worker_replicas': 0, '_environment': 'local', '_is_chief': True, '_evaluation_master': '', '_tf_config': gpu_options {\n",
      "  per_process_gpu_memory_fraction: 1.0\n",
      "}\n",
      ", '_tf_random_seed': None, '_save_summary_steps': 100, '_save_checkpoints_secs': 600, '_log_step_count_steps': 100, '_session_config': None, '_save_checkpoints_steps': None, '_keep_checkpoint_max': 5, '_keep_checkpoint_every_n_hours': 10000, '_model_dir': '/tmp/contrib'}\n"
     ]
    }
   ],
   "source": [
    "regressor = learn.DNNRegressor(hidden_units=[10, 20, 10],feature_columns=feature_columns,model_dir=\"/tmp/contrib\",optimizer=tf.train.GradientDescentOptimizer(0.01))"
   ]
  },
  {
   "cell_type": "code",
   "execution_count": 607,
   "metadata": {},
   "outputs": [
    {
     "name": "stdout",
     "output_type": "stream",
     "text": [
      "WARNING:tensorflow:From <ipython-input-607-2dcb2c151c92>:1: calling BaseEstimator.fit (from tensorflow.contrib.learn.python.learn.estimators.estimator) with x is deprecated and will be removed after 2016-12-01.\n",
      "Instructions for updating:\n",
      "Estimator is decoupled from Scikit Learn interface by moving into\n",
      "separate class SKCompat. Arguments x, y and batch_size are only\n",
      "available in the SKCompat class, Estimator will only accept input_fn.\n",
      "Example conversion:\n",
      "  est = Estimator(...) -> est = SKCompat(Estimator(...))\n",
      "WARNING:tensorflow:From <ipython-input-607-2dcb2c151c92>:1: calling BaseEstimator.fit (from tensorflow.contrib.learn.python.learn.estimators.estimator) with y is deprecated and will be removed after 2016-12-01.\n",
      "Instructions for updating:\n",
      "Estimator is decoupled from Scikit Learn interface by moving into\n",
      "separate class SKCompat. Arguments x, y and batch_size are only\n",
      "available in the SKCompat class, Estimator will only accept input_fn.\n",
      "Example conversion:\n",
      "  est = Estimator(...) -> est = SKCompat(Estimator(...))\n",
      "WARNING:tensorflow:From <ipython-input-607-2dcb2c151c92>:1: calling BaseEstimator.fit (from tensorflow.contrib.learn.python.learn.estimators.estimator) with batch_size is deprecated and will be removed after 2016-12-01.\n",
      "Instructions for updating:\n",
      "Estimator is decoupled from Scikit Learn interface by moving into\n",
      "separate class SKCompat. Arguments x, y and batch_size are only\n",
      "available in the SKCompat class, Estimator will only accept input_fn.\n",
      "Example conversion:\n",
      "  est = Estimator(...) -> est = SKCompat(Estimator(...))\n"
     ]
    },
    {
     "name": "stderr",
     "output_type": "stream",
     "text": [
      "/anaconda/lib/python3.6/site-packages/tensorflow/python/util/deprecation.py:260: FutureWarning: comparison to `None` will result in an elementwise object comparison in the future.\n",
      "  equality = a == b\n"
     ]
    },
    {
     "name": "stdout",
     "output_type": "stream",
     "text": [
      "WARNING:tensorflow:From /anaconda/lib/python3.6/site-packages/tensorflow/contrib/learn/python/learn/estimators/head.py:642: scalar_summary (from tensorflow.python.ops.logging_ops) is deprecated and will be removed after 2016-11-30.\n",
      "Instructions for updating:\n",
      "Please switch to tf.summary.scalar. Note that tf.summary.scalar uses the node name instead of the tag. This means that TensorFlow will automatically de-duplicate summary names based on the scope they are created in. Also, passing a tensor or list of tags to a scalar summary op is no longer supported.\n",
      "INFO:tensorflow:Create CheckpointSaverHook.\n",
      "INFO:tensorflow:Restoring parameters from /tmp/contrib/model.ckpt-3802\n",
      "INFO:tensorflow:Saving checkpoints for 3803 into /tmp/contrib/model.ckpt.\n",
      "INFO:tensorflow:loss = 5.51097e+11, step = 3803\n",
      "INFO:tensorflow:global_step/sec: 553.349\n",
      "INFO:tensorflow:loss = 1.08089e+11, step = 3903 (0.182 sec)\n",
      "INFO:tensorflow:Saving checkpoints for 4002 into /tmp/contrib/model.ckpt.\n",
      "INFO:tensorflow:Loss for final step: 5.656e+11.\n"
     ]
    },
    {
     "data": {
      "text/plain": [
       "DNNRegressor(params={'head': <tensorflow.contrib.learn.python.learn.estimators.head._RegressionHead object at 0x127dd5c88>, 'hidden_units': [10, 20, 10], 'feature_columns': (_RealValuedColumn(column_name='', dimension=21, default_value=None, dtype=tf.float32, normalizer=None),), 'optimizer': <tensorflow.python.training.gradient_descent.GradientDescentOptimizer object at 0x127dd5c50>, 'activation_fn': <function relu at 0x111834a60>, 'dropout': None, 'gradient_clip_norm': None, 'embedding_lr_multipliers': None, 'input_layer_min_slice_size': None})"
      ]
     },
     "execution_count": 607,
     "metadata": {},
     "output_type": "execute_result"
    }
   ],
   "source": [
    "regressor.fit(X_train,y_train,steps=200,batch_size=20)"
   ]
  },
  {
   "cell_type": "code",
   "execution_count": 608,
   "metadata": {},
   "outputs": [
    {
     "name": "stdout",
     "output_type": "stream",
     "text": [
      "WARNING:tensorflow:From /anaconda/lib/python3.6/site-packages/tensorflow/python/util/deprecation.py:355: calling DNNRegressor.predict (from tensorflow.contrib.learn.python.learn.estimators.dnn) with outputs=None is deprecated and will be removed after 2017-03-01.\n",
      "Instructions for updating:\n",
      "Please switch to predict_scores, or set `outputs` argument.\n",
      "WARNING:tensorflow:From /anaconda/lib/python3.6/site-packages/tensorflow/contrib/learn/python/learn/estimators/dnn.py:764: calling BaseEstimator.predict (from tensorflow.contrib.learn.python.learn.estimators.estimator) with x is deprecated and will be removed after 2016-12-01.\n",
      "Instructions for updating:\n",
      "Estimator is decoupled from Scikit Learn interface by moving into\n",
      "separate class SKCompat. Arguments x, y and batch_size are only\n",
      "available in the SKCompat class, Estimator will only accept input_fn.\n",
      "Example conversion:\n",
      "  est = Estimator(...) -> est = SKCompat(Estimator(...))\n"
     ]
    },
    {
     "name": "stderr",
     "output_type": "stream",
     "text": [
      "/anaconda/lib/python3.6/site-packages/tensorflow/python/util/deprecation.py:260: FutureWarning: comparison to `None` will result in an elementwise object comparison in the future.\n",
      "  equality = a == b\n"
     ]
    },
    {
     "name": "stdout",
     "output_type": "stream",
     "text": [
      "INFO:tensorflow:Restoring parameters from /tmp/contrib/model.ckpt-4002\n"
     ]
    }
   ],
   "source": [
    "prediction = list(regressor.predict(X_test, as_iterable=True))"
   ]
  },
  {
   "cell_type": "code",
   "execution_count": 609,
   "metadata": {},
   "outputs": [
    {
     "name": "stdout",
     "output_type": "stream",
     "text": [
      "Mean Absolute Error: 388367.75\n",
      "Mean Squared Error: 343354441728.0\n",
      "Root Mean Squared Error: 585964.5625\n"
     ]
    }
   ],
   "source": [
    "print('Mean Absolute Error: {}'.format(mean_absolute_error(y_test, prediction)))\n",
    "print('Mean Squared Error: {}'.format(mean_squared_error(y_test, prediction)))\n",
    "print('Root Mean Squared Error: {}'.format(np.sqrt(mean_squared_error(y_test, prediction))))"
   ]
  }
 ],
 "metadata": {
  "kernelspec": {
   "display_name": "Python 3",
   "language": "python",
   "name": "python3"
  },
  "language_info": {
   "codemirror_mode": {
    "name": "ipython",
    "version": 3
   },
   "file_extension": ".py",
   "mimetype": "text/x-python",
   "name": "python",
   "nbconvert_exporter": "python",
   "pygments_lexer": "ipython3",
   "version": "3.6.1"
  }
 },
 "nbformat": 4,
 "nbformat_minor": 2
}
